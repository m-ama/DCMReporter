{
 "cells": [
  {
   "cell_type": "code",
   "execution_count": 1,
   "metadata": {},
   "outputs": [],
   "source": [
    "from study2nifti import studyreport"
   ]
  },
  {
   "cell_type": "code",
   "execution_count": 2,
   "metadata": {},
   "outputs": [],
   "source": [
    "iamPath = '/Users/sid/Documents/Projects/IAM/Dataset/Sorted_DICOM'\n",
    "outPath = '/Users/sid/Documents/Projects/IAM'\n",
    "nthreads = 4"
   ]
  },
  {
   "cell_type": "code",
   "execution_count": 3,
   "metadata": {},
   "outputs": [
    {
     "name": "stdout",
     "output_type": "stream",
     "text": [
      "Processing with 12 workers...\n"
     ]
    }
   ],
   "source": [
    "iam = studyreport(iamPath, outPath, nthreads)"
   ]
  },
  {
   "cell_type": "code",
   "execution_count": 4,
   "metadata": {},
   "outputs": [
    {
     "name": "stderr",
     "output_type": "stream",
     "text": [
      "Analyzing Files: 100%|██████████| 297400/297400 [01:32<00:00, 3213.85files/s]\n"
     ]
    }
   ],
   "source": [
    "iam.getstudyinfo()"
   ]
  },
  {
   "cell_type": "code",
   "execution_count": 5,
   "metadata": {},
   "outputs": [
    {
     "data": {
      "text/html": [
       "<div>\n",
       "<style scoped>\n",
       "    .dataframe tbody tr th:only-of-type {\n",
       "        vertical-align: middle;\n",
       "    }\n",
       "\n",
       "    .dataframe tbody tr th {\n",
       "        vertical-align: top;\n",
       "    }\n",
       "\n",
       "    .dataframe thead th {\n",
       "        text-align: right;\n",
       "    }\n",
       "</style>\n",
       "<table border=\"1\" class=\"dataframe\">\n",
       "  <thead>\n",
       "    <tr style=\"text-align: right;\">\n",
       "      <th></th>\n",
       "      <th>PatientID</th>\n",
       "      <th>AcquisitionDate</th>\n",
       "      <th>PatientSex</th>\n",
       "      <th>PatientAge</th>\n",
       "      <th>SoftwareVersion</th>\n",
       "      <th>ProtocolName</th>\n",
       "      <th>SequenceName</th>\n",
       "    </tr>\n",
       "  </thead>\n",
       "  <tbody>\n",
       "    <tr>\n",
       "      <td>0</td>\n",
       "      <td>IAM_1049</td>\n",
       "      <td>20190417</td>\n",
       "      <td>F</td>\n",
       "      <td>069Y</td>\n",
       "      <td>syngo MR E11</td>\n",
       "      <td>AAHead_Scout_32ch-head-coil</td>\n",
       "      <td>*fl3d1_ns</td>\n",
       "    </tr>\n",
       "    <tr>\n",
       "      <td>1</td>\n",
       "      <td>IAM_1049</td>\n",
       "      <td>20190417</td>\n",
       "      <td>F</td>\n",
       "      <td>069Y</td>\n",
       "      <td>syngo MR E11</td>\n",
       "      <td>AAHead_Scout_32ch-head-coil</td>\n",
       "      <td>*fl3d1_ns</td>\n",
       "    </tr>\n",
       "    <tr>\n",
       "      <td>2</td>\n",
       "      <td>IAM_1049</td>\n",
       "      <td>20190417</td>\n",
       "      <td>F</td>\n",
       "      <td>069Y</td>\n",
       "      <td>syngo MR E11</td>\n",
       "      <td>AAHead_Scout_32ch-head-coil</td>\n",
       "      <td>*fl3d1_ns</td>\n",
       "    </tr>\n",
       "    <tr>\n",
       "      <td>3</td>\n",
       "      <td>IAM_1049</td>\n",
       "      <td>20190417</td>\n",
       "      <td>F</td>\n",
       "      <td>069Y</td>\n",
       "      <td>syngo MR E11</td>\n",
       "      <td>AAHead_Scout_32ch-head-coil</td>\n",
       "      <td>*fl3d1_ns</td>\n",
       "    </tr>\n",
       "    <tr>\n",
       "      <td>4</td>\n",
       "      <td>IAM_1049</td>\n",
       "      <td>20190417</td>\n",
       "      <td>F</td>\n",
       "      <td>069Y</td>\n",
       "      <td>syngo MR E11</td>\n",
       "      <td>AAHead_Scout_32ch-head-coil</td>\n",
       "      <td>*fl3d1_ns</td>\n",
       "    </tr>\n",
       "    <tr>\n",
       "      <td>...</td>\n",
       "      <td>...</td>\n",
       "      <td>...</td>\n",
       "      <td>...</td>\n",
       "      <td>...</td>\n",
       "      <td>...</td>\n",
       "      <td>...</td>\n",
       "      <td>...</td>\n",
       "    </tr>\n",
       "    <tr>\n",
       "      <td>297395</td>\n",
       "      <td>IAM_1032</td>\n",
       "      <td>20190220</td>\n",
       "      <td>F</td>\n",
       "      <td>070Y</td>\n",
       "      <td>syngo MR E11</td>\n",
       "      <td>t1_mprage_sag_p2_iso</td>\n",
       "      <td>*tfl3d1_16ns</td>\n",
       "    </tr>\n",
       "    <tr>\n",
       "      <td>297396</td>\n",
       "      <td>IAM_1032</td>\n",
       "      <td>20190220</td>\n",
       "      <td>F</td>\n",
       "      <td>070Y</td>\n",
       "      <td>syngo MR E11</td>\n",
       "      <td>t1_mprage_sag_p2_iso</td>\n",
       "      <td>*tfl3d1_16ns</td>\n",
       "    </tr>\n",
       "    <tr>\n",
       "      <td>297397</td>\n",
       "      <td>IAM_1032</td>\n",
       "      <td>20190220</td>\n",
       "      <td>F</td>\n",
       "      <td>070Y</td>\n",
       "      <td>syngo MR E11</td>\n",
       "      <td>t1_mprage_sag_p2_iso</td>\n",
       "      <td>*tfl3d1_16ns</td>\n",
       "    </tr>\n",
       "    <tr>\n",
       "      <td>297398</td>\n",
       "      <td>IAM_1032</td>\n",
       "      <td>20190220</td>\n",
       "      <td>F</td>\n",
       "      <td>070Y</td>\n",
       "      <td>syngo MR E11</td>\n",
       "      <td>t1_mprage_sag_p2_iso</td>\n",
       "      <td>*tfl3d1_16ns</td>\n",
       "    </tr>\n",
       "    <tr>\n",
       "      <td>297399</td>\n",
       "      <td>IAM_1032</td>\n",
       "      <td>20190220</td>\n",
       "      <td>F</td>\n",
       "      <td>070Y</td>\n",
       "      <td>syngo MR E11</td>\n",
       "      <td>t1_mprage_sag_p2_iso</td>\n",
       "      <td>*tfl3d1_16ns</td>\n",
       "    </tr>\n",
       "  </tbody>\n",
       "</table>\n",
       "<p>297400 rows × 7 columns</p>\n",
       "</div>"
      ],
      "text/plain": [
       "       PatientID AcquisitionDate PatientSex PatientAge SoftwareVersion  \\\n",
       "0       IAM_1049        20190417          F       069Y    syngo MR E11   \n",
       "1       IAM_1049        20190417          F       069Y    syngo MR E11   \n",
       "2       IAM_1049        20190417          F       069Y    syngo MR E11   \n",
       "3       IAM_1049        20190417          F       069Y    syngo MR E11   \n",
       "4       IAM_1049        20190417          F       069Y    syngo MR E11   \n",
       "...          ...             ...        ...        ...             ...   \n",
       "297395  IAM_1032        20190220          F       070Y    syngo MR E11   \n",
       "297396  IAM_1032        20190220          F       070Y    syngo MR E11   \n",
       "297397  IAM_1032        20190220          F       070Y    syngo MR E11   \n",
       "297398  IAM_1032        20190220          F       070Y    syngo MR E11   \n",
       "297399  IAM_1032        20190220          F       070Y    syngo MR E11   \n",
       "\n",
       "                       ProtocolName  SequenceName  \n",
       "0       AAHead_Scout_32ch-head-coil     *fl3d1_ns  \n",
       "1       AAHead_Scout_32ch-head-coil     *fl3d1_ns  \n",
       "2       AAHead_Scout_32ch-head-coil     *fl3d1_ns  \n",
       "3       AAHead_Scout_32ch-head-coil     *fl3d1_ns  \n",
       "4       AAHead_Scout_32ch-head-coil     *fl3d1_ns  \n",
       "...                             ...           ...  \n",
       "297395         t1_mprage_sag_p2_iso  *tfl3d1_16ns  \n",
       "297396         t1_mprage_sag_p2_iso  *tfl3d1_16ns  \n",
       "297397         t1_mprage_sag_p2_iso  *tfl3d1_16ns  \n",
       "297398         t1_mprage_sag_p2_iso  *tfl3d1_16ns  \n",
       "297399         t1_mprage_sag_p2_iso  *tfl3d1_16ns  \n",
       "\n",
       "[297400 rows x 7 columns]"
      ]
     },
     "execution_count": 5,
     "metadata": {},
     "output_type": "execute_result"
    }
   ],
   "source": [
    "iam.dicomprops"
   ]
  },
  {
   "cell_type": "code",
   "execution_count": 6,
   "metadata": {},
   "outputs": [
    {
     "name": "stderr",
     "output_type": "stream",
     "text": [
      "Creating Dataframe: 100%|██████████| 108/108 [00:53<00:00,  2.02sub/s]\n"
     ]
    }
   ],
   "source": [
    "table = iam.createstudytable()"
   ]
  },
  {
   "cell_type": "code",
   "execution_count": 7,
   "metadata": {},
   "outputs": [],
   "source": [
    "iam.writepdtable(table,'/Users/sid/Downloads/IAM.csv')"
   ]
  }
 ],
 "metadata": {
  "kernelspec": {
   "display_name": "Python 3",
   "language": "python",
   "name": "python3"
  },
  "language_info": {
   "codemirror_mode": {
    "name": "ipython",
    "version": 3
   },
   "file_extension": ".py",
   "mimetype": "text/x-python",
   "name": "python",
   "nbconvert_exporter": "python",
   "pygments_lexer": "ipython3",
   "version": "3.7.4"
  }
 },
 "nbformat": 4,
 "nbformat_minor": 2
}
